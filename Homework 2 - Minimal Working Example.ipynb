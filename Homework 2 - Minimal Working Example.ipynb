{
 "nbformat": 4,
 "nbformat_minor": 0,
 "metadata": {
  "colab": {
   "provenance": []
  },
  "kernelspec": {
   "name": "python3",
   "display_name": "Python 3 (ipykernel)",
   "language": "python"
  },
  "language_info": {
   "name": "python"
  }
 },
 "cells": [
  {
   "cell_type": "markdown",
   "source": [
    "# Artificial Neural Networks and Deep Learning\n",
    "\n",
    "---\n",
    "\n",
    "## Homework 2: Minimal Working Example\n",
    "\n",
    "To make your first submission, follow these steps:\n",
    "1. Create a folder named `[2024-2025] AN2DL/Homework 2` in your Google Drive.\n",
    "2. Upload the `mars_for_students.npz` file to this folder.\n",
    "3. Upload the Jupyter notebook `Homework 2 - Minimal Working Example.ipynb`.\n",
    "4. Load and process the data.\n",
    "5. Implement and train your model.\n",
    "6. Submit the generated `.csv` file to Kaggle.\n"
   ],
   "metadata": {
    "id": "nuwVgG3Vbbka"
   }
  },
  {
   "cell_type": "markdown",
   "source": [
    "## ⚙️ Import Libraries"
   ],
   "metadata": {
    "id": "d7IqZP5Iblna"
   }
  },
  {
   "cell_type": "code",
   "metadata": {
    "id": "CO6_Ft_8T56A",
    "ExecuteTime": {
     "end_time": "2024-12-03T09:52:14.885020Z",
     "start_time": "2024-12-03T09:52:14.875171Z"
    }
   },
   "source": [
    "import os\n",
    "from datetime import datetime\n",
    "\n",
    "import numpy as np\n",
    "import pandas as pd\n",
    "\n",
    "import tensorflow as tf\n",
    "import keras as tfk\n",
    "from keras import layers as tfkl\n",
    "\n",
    "import matplotlib.pyplot as plt\n",
    "%matplotlib inline\n",
    "\n",
    "np.random.seed(42)\n",
    "tf.random.set_seed(42)\n",
    "\n",
    "print(f'TensorFlow version: {tf.__version__}')\n",
    "print(f'Keras version: {tfk.__version__}')\n",
    "print(f'GPU devices: {len(tf.config.list_physical_devices(\"GPU\"))}')"
   ],
   "outputs": [
    {
     "name": "stdout",
     "output_type": "stream",
     "text": [
      "TensorFlow version: 2.18.0\n",
      "Keras version: 3.7.0\n",
      "GPU devices: 0\n"
     ]
    }
   ],
   "execution_count": 2
  },
  {
   "cell_type": "markdown",
   "source": [
    "## ⏳ Load the Data"
   ],
   "metadata": {
    "id": "GN_cpHlSboXV"
   }
  },
  {
   "cell_type": "code",
   "source": [
    "data = np.load('mars_for_students.npz')\n",
    "\n",
    "training_set = data['training_set']\n",
    "X_train = training_set[:, 0]\n",
    "y_train = training_set[:, 1]\n",
    "\n",
    "X_test = data['test_set']\n",
    "\n",
    "print(f'Training X shape: {X_train.shape}')\n",
    "print(f'Training y shape: {y_train.shape}')\n",
    "print(f'Test X shape: {X_test.shape}')"
   ],
   "metadata": {
    "id": "pLaoDaG1V1Yg",
    "ExecuteTime": {
     "end_time": "2024-11-30T08:07:20.823794Z",
     "start_time": "2024-11-30T08:07:19.646973Z"
    }
   },
   "outputs": [
    {
     "name": "stdout",
     "output_type": "stream",
     "text": [
      "Training X shape: (2615, 64, 128)\n",
      "Training y shape: (2615, 64, 128)\n",
      "Test X shape: (10022, 64, 128)\n"
     ]
    }
   ],
   "execution_count": 2
  },
  {
   "cell_type": "markdown",
   "source": [
    "## 🛠️ Train and Save the Model"
   ],
   "metadata": {
    "id": "FSliIxBvbs2Q"
   }
  },
  {
   "cell_type": "code",
   "source": [
    "# Add color channel and rescale pixels between 0 and 1\n",
    "X_train = X_train[..., np.newaxis] / 255.0\n",
    "X_test = X_test[..., np.newaxis] / 255.0\n",
    "\n",
    "input_shape = X_train.shape[1:]\n",
    "num_classes = len(np.unique(y_train))\n",
    "\n",
    "print(f'Input shape: {input_shape}')\n",
    "print(f'Number of classes: {num_classes}')"
   ],
   "metadata": {
    "id": "VmnTgJi_OOs1",
    "ExecuteTime": {
     "end_time": "2024-11-30T08:07:24.223012Z",
     "start_time": "2024-11-30T08:07:23.895269Z"
    }
   },
   "outputs": [
    {
     "name": "stdout",
     "output_type": "stream",
     "text": [
      "Input shape: (64, 128, 1)\n",
      "Number of classes: 5\n"
     ]
    }
   ],
   "execution_count": 3
  },
  {
   "cell_type": "code",
   "source": [
    "inputs = tfkl.Input(shape=input_shape)\n",
    "x = tfkl.Conv2D(filters=num_classes, kernel_size=(1, 1), activation='softmax')(inputs)\n",
    "model = tfk.Model(inputs=inputs, outputs=x, name='minimal_working_net')\n",
    "\n",
    "# Define the MeanIoU ignoring the background class\n",
    "mean_iou = tfk.metrics.MeanIoU(num_classes=num_classes, ignore_class=0, sparse_y_pred=False)\n",
    "\n",
    "model.compile(optimizer='adam', loss='sparse_categorical_crossentropy', metrics=[mean_iou])\n",
    "\n",
    "model.summary()"
   ],
   "metadata": {
    "id": "CBkb3TRF1KJx",
    "ExecuteTime": {
     "end_time": "2024-11-30T08:07:39.120066Z",
     "start_time": "2024-11-30T08:07:39.007008Z"
    }
   },
   "outputs": [
    {
     "data": {
      "text/plain": [
       "\u001B[1mModel: \"minimal_working_net\"\u001B[0m\n"
      ],
      "text/html": [
       "<pre style=\"white-space:pre;overflow-x:auto;line-height:normal;font-family:Menlo,'DejaVu Sans Mono',consolas,'Courier New',monospace\"><span style=\"font-weight: bold\">Model: \"minimal_working_net\"</span>\n",
       "</pre>\n"
      ]
     },
     "metadata": {},
     "output_type": "display_data"
    },
    {
     "data": {
      "text/plain": [
       "┏━━━━━━━━━━━━━━━━━━━━━━━━━━━━━━━━━┳━━━━━━━━━━━━━━━━━━━━━━━━┳━━━━━━━━━━━━━━━┓\n",
       "┃\u001B[1m \u001B[0m\u001B[1mLayer (type)                   \u001B[0m\u001B[1m \u001B[0m┃\u001B[1m \u001B[0m\u001B[1mOutput Shape          \u001B[0m\u001B[1m \u001B[0m┃\u001B[1m \u001B[0m\u001B[1m      Param #\u001B[0m\u001B[1m \u001B[0m┃\n",
       "┡━━━━━━━━━━━━━━━━━━━━━━━━━━━━━━━━━╇━━━━━━━━━━━━━━━━━━━━━━━━╇━━━━━━━━━━━━━━━┩\n",
       "│ input_layer (\u001B[38;5;33mInputLayer\u001B[0m)        │ (\u001B[38;5;45mNone\u001B[0m, \u001B[38;5;34m64\u001B[0m, \u001B[38;5;34m128\u001B[0m, \u001B[38;5;34m1\u001B[0m)     │             \u001B[38;5;34m0\u001B[0m │\n",
       "├─────────────────────────────────┼────────────────────────┼───────────────┤\n",
       "│ conv2d (\u001B[38;5;33mConv2D\u001B[0m)                 │ (\u001B[38;5;45mNone\u001B[0m, \u001B[38;5;34m64\u001B[0m, \u001B[38;5;34m128\u001B[0m, \u001B[38;5;34m5\u001B[0m)     │            \u001B[38;5;34m10\u001B[0m │\n",
       "└─────────────────────────────────┴────────────────────────┴───────────────┘\n"
      ],
      "text/html": [
       "<pre style=\"white-space:pre;overflow-x:auto;line-height:normal;font-family:Menlo,'DejaVu Sans Mono',consolas,'Courier New',monospace\">┏━━━━━━━━━━━━━━━━━━━━━━━━━━━━━━━━━┳━━━━━━━━━━━━━━━━━━━━━━━━┳━━━━━━━━━━━━━━━┓\n",
       "┃<span style=\"font-weight: bold\"> Layer (type)                    </span>┃<span style=\"font-weight: bold\"> Output Shape           </span>┃<span style=\"font-weight: bold\">       Param # </span>┃\n",
       "┡━━━━━━━━━━━━━━━━━━━━━━━━━━━━━━━━━╇━━━━━━━━━━━━━━━━━━━━━━━━╇━━━━━━━━━━━━━━━┩\n",
       "│ input_layer (<span style=\"color: #0087ff; text-decoration-color: #0087ff\">InputLayer</span>)        │ (<span style=\"color: #00d7ff; text-decoration-color: #00d7ff\">None</span>, <span style=\"color: #00af00; text-decoration-color: #00af00\">64</span>, <span style=\"color: #00af00; text-decoration-color: #00af00\">128</span>, <span style=\"color: #00af00; text-decoration-color: #00af00\">1</span>)     │             <span style=\"color: #00af00; text-decoration-color: #00af00\">0</span> │\n",
       "├─────────────────────────────────┼────────────────────────┼───────────────┤\n",
       "│ conv2d (<span style=\"color: #0087ff; text-decoration-color: #0087ff\">Conv2D</span>)                 │ (<span style=\"color: #00d7ff; text-decoration-color: #00d7ff\">None</span>, <span style=\"color: #00af00; text-decoration-color: #00af00\">64</span>, <span style=\"color: #00af00; text-decoration-color: #00af00\">128</span>, <span style=\"color: #00af00; text-decoration-color: #00af00\">5</span>)     │            <span style=\"color: #00af00; text-decoration-color: #00af00\">10</span> │\n",
       "└─────────────────────────────────┴────────────────────────┴───────────────┘\n",
       "</pre>\n"
      ]
     },
     "metadata": {},
     "output_type": "display_data"
    },
    {
     "data": {
      "text/plain": [
       "\u001B[1m Total params: \u001B[0m\u001B[38;5;34m10\u001B[0m (40.00 B)\n"
      ],
      "text/html": [
       "<pre style=\"white-space:pre;overflow-x:auto;line-height:normal;font-family:Menlo,'DejaVu Sans Mono',consolas,'Courier New',monospace\"><span style=\"font-weight: bold\"> Total params: </span><span style=\"color: #00af00; text-decoration-color: #00af00\">10</span> (40.00 B)\n",
       "</pre>\n"
      ]
     },
     "metadata": {},
     "output_type": "display_data"
    },
    {
     "data": {
      "text/plain": [
       "\u001B[1m Trainable params: \u001B[0m\u001B[38;5;34m10\u001B[0m (40.00 B)\n"
      ],
      "text/html": [
       "<pre style=\"white-space:pre;overflow-x:auto;line-height:normal;font-family:Menlo,'DejaVu Sans Mono',consolas,'Courier New',monospace\"><span style=\"font-weight: bold\"> Trainable params: </span><span style=\"color: #00af00; text-decoration-color: #00af00\">10</span> (40.00 B)\n",
       "</pre>\n"
      ]
     },
     "metadata": {},
     "output_type": "display_data"
    },
    {
     "data": {
      "text/plain": [
       "\u001B[1m Non-trainable params: \u001B[0m\u001B[38;5;34m0\u001B[0m (0.00 B)\n"
      ],
      "text/html": [
       "<pre style=\"white-space:pre;overflow-x:auto;line-height:normal;font-family:Menlo,'DejaVu Sans Mono',consolas,'Courier New',monospace\"><span style=\"font-weight: bold\"> Non-trainable params: </span><span style=\"color: #00af00; text-decoration-color: #00af00\">0</span> (0.00 B)\n",
       "</pre>\n"
      ]
     },
     "metadata": {},
     "output_type": "display_data"
    }
   ],
   "execution_count": 4
  },
  {
   "cell_type": "code",
   "source": [
    "history = model.fit(X_train, y_train, epochs=1)"
   ],
   "metadata": {
    "id": "pMCbSMQ_-XoH",
    "ExecuteTime": {
     "end_time": "2024-11-30T08:07:45.108946Z",
     "start_time": "2024-11-30T08:07:41.585059Z"
    }
   },
   "outputs": [
    {
     "name": "stdout",
     "output_type": "stream",
     "text": [
      "\u001B[1m82/82\u001B[0m \u001B[32m━━━━━━━━━━━━━━━━━━━━\u001B[0m\u001B[37m\u001B[0m \u001B[1m3s\u001B[0m 31ms/step - loss: 1.6424 - mean_io_u: 0.0076\n"
     ]
    }
   ],
   "execution_count": 5
  },
  {
   "cell_type": "code",
   "source": [
    "timestep_str = datetime.now().strftime('%y%m%d_%H%M%S')\n",
    "model_filename = f'model_{timestep_str}.keras'\n",
    "model.save(model_filename)\n",
    "del model\n",
    "\n",
    "print(f'Model saved to {model_filename}')"
   ],
   "metadata": {
    "id": "PtM0ubgdOzG-",
    "ExecuteTime": {
     "end_time": "2024-11-30T08:07:50.816080Z",
     "start_time": "2024-11-30T08:07:50.771172Z"
    }
   },
   "outputs": [
    {
     "name": "stdout",
     "output_type": "stream",
     "text": [
      "Model saved to model_241130_090750.keras\n"
     ]
    }
   ],
   "execution_count": 6
  },
  {
   "cell_type": "markdown",
   "source": [
    "## 📊 Prepare Your Submission\n",
    "\n",
    "In our Kaggle competition, submissions are made as `csv` files. To create a proper `csv` file, you need to flatten your predictions and include an `id` column as the first column of your dataframe. To maintain consistency between your results and our solution, please avoid shuffling the test set. The code below demonstrates how to prepare the `csv` file from your model predictions.\n",
    "\n",
    "\n"
   ],
   "metadata": {
    "id": "RNp6pUZuddqC"
   }
  },
  {
   "cell_type": "code",
   "source": [
    "if 'model_filename' not in globals() or model_filename is None:\n",
    "    files = [f for f in os.listdir('.') if os.path.isfile(f) and f.startswith('model_') and f.endswith('.keras')]\n",
    "    print(files)\n",
    "    files.sort(key=lambda x: os.path.getmtime(x), reverse=True)\n",
    "    if files:\n",
    "        model_filename = files[0]\n",
    "    else:\n",
    "        raise FileNotFoundError('No model files found in the current directory.')"
   ],
   "metadata": {
    "id": "BU00iEFcYi_X",
    "ExecuteTime": {
     "end_time": "2024-11-30T08:08:13.495283Z",
     "start_time": "2024-11-30T08:08:13.487986Z"
    }
   },
   "outputs": [],
   "execution_count": 7
  },
  {
   "cell_type": "code",
   "source": [
    "model = tfk.models.load_model(model_filename)\n",
    "print(f'Model loaded from {model_filename}')"
   ],
   "metadata": {
    "id": "FMIq69eWgRmr",
    "ExecuteTime": {
     "end_time": "2024-11-30T08:08:14.980543Z",
     "start_time": "2024-11-30T08:08:14.937744Z"
    }
   },
   "outputs": [
    {
     "name": "stdout",
     "output_type": "stream",
     "text": [
      "Model loaded from model_241130_090750.keras\n"
     ]
    }
   ],
   "execution_count": 8
  },
  {
   "cell_type": "code",
   "source": [
    "preds = model.predict(X_test)\n",
    "preds = np.argmax(preds, axis=-1)\n",
    "print(f'Predictions shape: {preds.shape}')"
   ],
   "metadata": {
    "id": "z287uIQ_VGoK",
    "ExecuteTime": {
     "end_time": "2024-11-30T08:08:32.110897Z",
     "start_time": "2024-11-30T08:08:24.419184Z"
    }
   },
   "outputs": [
    {
     "name": "stdout",
     "output_type": "stream",
     "text": [
      "\u001B[1m314/314\u001B[0m \u001B[32m━━━━━━━━━━━━━━━━━━━━\u001B[0m\u001B[37m\u001B[0m \u001B[1m2s\u001B[0m 7ms/step\n",
      "Predictions shape: (10022, 64, 128)\n"
     ]
    }
   ],
   "execution_count": 9
  },
  {
   "cell_type": "code",
   "source": [
    "def y_to_df(y) -> pd.DataFrame:\n",
    "    \"\"\"\n",
    "    Converts segmentation predictions into a DataFrame format for Kaggle.\n",
    "    \"\"\"\n",
    "    n_samples = len(y)\n",
    "    y_flat = y.reshape(n_samples, -1)\n",
    "    df = pd.DataFrame(y_flat)\n",
    "    df['id'] = np.arange(n_samples)\n",
    "    cols = ['id'] + [col for col in df.columns if col != 'id']\n",
    "    return df[cols]"
   ],
   "metadata": {
    "id": "SPjMEKqZW5jX",
    "ExecuteTime": {
     "end_time": "2024-11-30T08:08:57.029641Z",
     "start_time": "2024-11-30T08:08:57.023280Z"
    }
   },
   "outputs": [],
   "execution_count": 10
  },
  {
   "cell_type": "code",
   "source": [
    "# Create and download the csv submission file\n",
    "timestep_str = model_filename.replace('model_', '').replace('.keras', '')\n",
    "submission_filename = f'submission_{timestep_str}.csv'\n",
    "submission_df = y_to_df(preds)\n",
    "submission_df.to_csv(submission_filename, index=False)"
   ],
   "metadata": {
    "id": "s18kX1uDconq",
    "ExecuteTime": {
     "end_time": "2024-11-30T08:09:36.608696Z",
     "start_time": "2024-11-30T08:09:16.012246Z"
    }
   },
   "outputs": [],
   "execution_count": 11
  }
 ]
}
